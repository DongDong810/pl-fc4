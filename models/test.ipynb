{
 "cells": [
  {
   "cell_type": "code",
   "execution_count": 1,
   "metadata": {},
   "outputs": [],
   "source": [
    "import torch\n",
    "import torch.nn as nn\n",
    "import torch.nn.functional as F\n",
    "\n",
    "from SqueezeNet_v1 import SqueezeNet"
   ]
  },
  {
   "cell_type": "code",
   "execution_count": 2,
   "metadata": {},
   "outputs": [],
   "source": [
    "squeeze = SqueezeNet()"
   ]
  },
  {
   "cell_type": "code",
   "execution_count": 4,
   "metadata": {},
   "outputs": [
    {
     "data": {
      "text/plain": [
       "[Sequential(\n",
       "   (0): Conv2d(3, 64, kernel_size=(3, 3), stride=(2, 2))\n",
       "   (1): ReLU(inplace=True)\n",
       "   (2): MaxPool2d(kernel_size=3, stride=2, padding=0, dilation=1, ceil_mode=True)\n",
       "   (3): Fire(\n",
       "     (squeeze): Conv2d(64, 16, kernel_size=(1, 1), stride=(1, 1))\n",
       "     (expand1x1): Conv2d(16, 64, kernel_size=(1, 1), stride=(1, 1))\n",
       "     (expand3x3): Conv2d(16, 64, kernel_size=(3, 3), stride=(1, 1), padding=(1, 1))\n",
       "     (relu): ReLU(inplace=True)\n",
       "   )\n",
       "   (4): Fire(\n",
       "     (squeeze): Conv2d(128, 16, kernel_size=(1, 1), stride=(1, 1))\n",
       "     (expand1x1): Conv2d(16, 64, kernel_size=(1, 1), stride=(1, 1))\n",
       "     (expand3x3): Conv2d(16, 64, kernel_size=(3, 3), stride=(1, 1), padding=(1, 1))\n",
       "     (relu): ReLU(inplace=True)\n",
       "   )\n",
       "   (5): MaxPool2d(kernel_size=3, stride=2, padding=0, dilation=1, ceil_mode=True)\n",
       "   (6): Fire(\n",
       "     (squeeze): Conv2d(128, 32, kernel_size=(1, 1), stride=(1, 1))\n",
       "     (expand1x1): Conv2d(32, 128, kernel_size=(1, 1), stride=(1, 1))\n",
       "     (expand3x3): Conv2d(32, 128, kernel_size=(3, 3), stride=(1, 1), padding=(1, 1))\n",
       "     (relu): ReLU(inplace=True)\n",
       "   )\n",
       "   (7): Fire(\n",
       "     (squeeze): Conv2d(256, 32, kernel_size=(1, 1), stride=(1, 1))\n",
       "     (expand1x1): Conv2d(32, 128, kernel_size=(1, 1), stride=(1, 1))\n",
       "     (expand3x3): Conv2d(32, 128, kernel_size=(3, 3), stride=(1, 1), padding=(1, 1))\n",
       "     (relu): ReLU(inplace=True)\n",
       "   )\n",
       "   (8): MaxPool2d(kernel_size=3, stride=2, padding=0, dilation=1, ceil_mode=True)\n",
       "   (9): Fire(\n",
       "     (squeeze): Conv2d(256, 48, kernel_size=(1, 1), stride=(1, 1))\n",
       "     (expand1x1): Conv2d(48, 192, kernel_size=(1, 1), stride=(1, 1))\n",
       "     (expand3x3): Conv2d(48, 192, kernel_size=(3, 3), stride=(1, 1), padding=(1, 1))\n",
       "     (relu): ReLU(inplace=True)\n",
       "   )\n",
       "   (10): Fire(\n",
       "     (squeeze): Conv2d(384, 48, kernel_size=(1, 1), stride=(1, 1))\n",
       "     (expand1x1): Conv2d(48, 192, kernel_size=(1, 1), stride=(1, 1))\n",
       "     (expand3x3): Conv2d(48, 192, kernel_size=(3, 3), stride=(1, 1), padding=(1, 1))\n",
       "     (relu): ReLU(inplace=True)\n",
       "   )\n",
       "   (11): Fire(\n",
       "     (squeeze): Conv2d(384, 64, kernel_size=(1, 1), stride=(1, 1))\n",
       "     (expand1x1): Conv2d(64, 256, kernel_size=(1, 1), stride=(1, 1))\n",
       "     (expand3x3): Conv2d(64, 256, kernel_size=(3, 3), stride=(1, 1), padding=(1, 1))\n",
       "     (relu): ReLU(inplace=True)\n",
       "   )\n",
       "   (12): Fire(\n",
       "     (squeeze): Conv2d(512, 64, kernel_size=(1, 1), stride=(1, 1))\n",
       "     (expand1x1): Conv2d(64, 256, kernel_size=(1, 1), stride=(1, 1))\n",
       "     (expand3x3): Conv2d(64, 256, kernel_size=(3, 3), stride=(1, 1), padding=(1, 1))\n",
       "     (relu): ReLU(inplace=True)\n",
       "   )\n",
       " ),\n",
       " Sequential(\n",
       "   (0): Dropout(p=0.5, inplace=False)\n",
       "   (1): Conv2d(512, 1000, kernel_size=(1, 1), stride=(1, 1))\n",
       "   (2): ReLU(inplace=True)\n",
       "   (3): AdaptiveAvgPool2d(output_size=(1, 1))\n",
       " )]"
      ]
     },
     "execution_count": 4,
     "metadata": {},
     "output_type": "execute_result"
    }
   ],
   "source": [
    "list(squeeze.children())"
   ]
  },
  {
   "cell_type": "code",
   "execution_count": null,
   "metadata": {},
   "outputs": [],
   "source": []
  }
 ],
 "metadata": {
  "kernelspec": {
   "display_name": "base",
   "language": "python",
   "name": "python3"
  },
  "language_info": {
   "codemirror_mode": {
    "name": "ipython",
    "version": 3
   },
   "file_extension": ".py",
   "mimetype": "text/x-python",
   "name": "python",
   "nbconvert_exporter": "python",
   "pygments_lexer": "ipython3",
   "version": "3.10.13"
  }
 },
 "nbformat": 4,
 "nbformat_minor": 2
}
